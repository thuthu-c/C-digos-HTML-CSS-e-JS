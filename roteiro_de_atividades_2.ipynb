{
  "nbformat": 4,
  "nbformat_minor": 0,
  "metadata": {
    "colab": {
      "name": "roteiro_de_atividades_2.ipynb",
      "provenance": [],
      "collapsed_sections": [],
      "include_colab_link": true
    },
    "kernelspec": {
      "name": "python3",
      "display_name": "Python 3"
    }
  },
  "cells": [
    {
      "cell_type": "markdown",
      "metadata": {
        "id": "view-in-github",
        "colab_type": "text"
      },
      "source": [
        "<a href=\"https://colab.research.google.com/github/thuthu-c/C-digos-HTML-CSS-e-JS/blob/main/roteiro_de_atividades_2.ipynb\" target=\"_parent\"><img src=\"https://colab.research.google.com/assets/colab-badge.svg\" alt=\"Open In Colab\"/></a>"
      ]
    },
    {
      "cell_type": "markdown",
      "metadata": {
        "id": "x-E-ZItWsBCm",
        "pycharm": {
          "name": "#%% md\n"
        }
      },
      "source": [
        "# Roteiro de atividades 2 - Introdução à Probabilidade/Probabilidade Condicional/Teorema de Bayes\n",
        "\n",
        "Material elaborado por Rute Abreu (2020.5), adaptado por Elvis Melo (2020.6)"
      ]
    },
    {
      "cell_type": "markdown",
      "metadata": {
        "id": "x_3iEHD3tZ50",
        "pycharm": {
          "name": "#%% md\n"
        }
      },
      "source": [
        "# Objetivo\n",
        "\n",
        "Trabalhar com a base de dados **PoliceKillings** com ajuda da ferramenta Google Colab e utilização da linguagem de programação *Python*, de maneira a fixar os conteúdos das seguintes aulas: \n",
        "\n",
        "*   Introdução à Probabilidade\n",
        "*   Probabilidade condicional\n",
        "*   Teorema de Bayes"
      ]
    },
    {
      "cell_type": "markdown",
      "metadata": {
        "id": "czvwsuw8tcJw",
        "pycharm": {
          "name": "#%% md\n"
        }
      },
      "source": [
        "#Expectativa\n",
        "\n",
        "Finalização do roteiro de atividades, compreensão dos assuntos abordados e desenvolvimento de habilidades para resolução de problemas probabilísticos na linguagem *Python*.\n"
      ]
    },
    {
      "cell_type": "markdown",
      "metadata": {
        "id": "KY6-xiDh5sJa",
        "pycharm": {
          "name": "#%% md\n"
        }
      },
      "source": [
        "# 1 Obtendo a base de dados\n",
        "\n",
        "Neste roteiro vamos seguir um caminho um pouco diferente para obter a base de dados. Ao ínves de usar uma base nova, usaremos a mesma base do **roteiro 1**. Como vocês devem lembrar, nós já realizamos as etapas de tratamento de dados nessa base, por isso você não precisará refazer esta etapa da análise. \n",
        "\n",
        "Para obter a base já com os devidos tratamentos, acesse esse [link](https://drive.google.com/file/d/1LVEwJNUi-G3Il1wS8U_sh7vk1kSrC5-E/view?usp=sharing) do google drive e faça o download do arquivo.\n",
        "\n",
        "## 1.1 - Subindo a base de dados para o Colab\n",
        "\n",
        "Para subir a nossa base de dados para o Colab, você deve clicar no icone com formato de pasta (files) no menu lateral esquerdo e em seguida na opção upload. Após isto, navegue até a base de dados descompactada e escolha o arquivo polliceKillings.csv.\n"
      ]
    },
    {
      "cell_type": "markdown",
      "metadata": {
        "id": "tXLrFjPH7wDs",
        "pycharm": {
          "name": "#%% md\n"
        }
      },
      "source": [
        "# 2 - Leitura dos dados e importação das bibliotecas iniciais\n",
        "\n",
        "Para realizar a leitura da nossa base de dados, iremos novamente fazer a inclusão da biblioteca `Pandas` e utilizar o comando `read_cvs(\"seuArquivo.csv\", index_col = 0)`. \n",
        "\n",
        "Além da **Pandas**, iremos incluir a biblioteca **numpy** para lidar com futuras operações matematicas e manipulação de vetores e matrizes.\n",
        "\n",
        "Complete o código do exércício #1 utilizando o método  `read_csv()` para armazenar a base dados na variável policeKillingsDF.\n",
        "\n",
        "Lembre-se que no pandas chamamos essa representaçao de Dataframe."
      ]
    },
    {
      "cell_type": "code",
      "metadata": {
        "id": "P7O6w1hTmaj6",
        "pycharm": {
          "name": "#%%\n"
        }
      },
      "source": [
        "# Exercício 1\n",
        "\n",
        "import pandas as pd\n",
        "import numpy as np\n",
        "\n",
        "policeKillingsDF = pd.read_csv(\"/content/PoliceKillingsUS.csv\", encoding = \"latin1\")\n",
        "policeKillingsDF.reset_index(drop=True, inplace=True)"
      ],
      "execution_count": 8,
      "outputs": []
    },
    {
      "cell_type": "markdown",
      "metadata": {
        "id": "_QUyjfz4FzpK",
        "pycharm": {
          "name": "#%% md\n"
        }
      },
      "source": [
        "\n",
        "Adendos da seção: Apesar da descrição do dataset ser a mesma do roteiro #1, vou deixar disponível aqui pra você consultarem mais rápido, caso precisem entender o que cada variável representa.\n",
        "\n",
        "# 3 - Descrição do dataset\n",
        "\n",
        "Este dataset trata de mortes de civís executadas por policíais nos Estados Unidos. Se trata de uma base de dados construída pelo Wahsington Post entre os meses de Janeiro de 2015 à dezembro de 2017. \n",
        "\n",
        "Essa base começou a ser  montada após o assassinato de Michael Brown na cidade de Ferguson, estado do Missouri, evento que deu inicio ao movimento **Black Lives Matter**. \n",
        "\n",
        "Você pode ver uma breve descrição de cada coluna na lista abaixo:\n",
        "\n",
        "* name - O nome da pessoa assassinada\n",
        "* date - A data do acontecimento\n",
        "* manner_of_death - A maneira pela qual o assassinato se deu.\n",
        "* armed - O tipo de arma utilizada pelo civíl.\n",
        "* age - A idade da civíl\n",
        "* gender - O gênero biológico.\n",
        "* race - A raça\n",
        "* city - A cidade onde aconteceu o evento\n",
        "* state - O estado onde aconteceu o evento\n",
        "* signs_of_mental_illness - Se a vítima estava passando por alguma crise de saúde mental\n",
        "* threat_level - O nível de ameaça que individuo apresentava\n",
        "* flee - Se a pessoa estava em fuga\n",
        "* body_camera - Se a pessoa usava alguma camera.\n"
      ]
    },
    {
      "cell_type": "markdown",
      "metadata": {
        "id": "XygjxS-7gAY7",
        "pycharm": {
          "name": "#%% md\n"
        }
      },
      "source": [
        "No exercício #2 visualize as cinco primeiras linhas do seu *dataset* usando o comando ` meuDataset.head()`. Isso te ajudará a entender melhor como são os seus dados, visualizando, por exemplo, se são catégoricos ou continuos."
      ]
    },
    {
      "cell_type": "code",
      "metadata": {
        "id": "T6Sd5Imhj2C9",
        "pycharm": {
          "name": "#%%\n"
        },
        "colab": {
          "base_uri": "https://localhost:8080/",
          "height": 357
        },
        "outputId": "97758512-0a46-4f92-bb54-53ab7e429c2b"
      },
      "source": [
        "#Exercício 2 \n",
        "\n",
        "\n",
        "policeKillingsDF.head()"
      ],
      "execution_count": 5,
      "outputs": [
        {
          "output_type": "execute_result",
          "data": {
            "text/plain": [
              "   id                name      date   manner_of_death       armed   age  \\\n",
              "0   3          Tim Elliot  02/01/15              shot         gun  53.0   \n",
              "1   4    Lewis Lee Lembke  02/01/15              shot         gun  47.0   \n",
              "2   5  John Paul Quintero  03/01/15  shot and Tasered     unarmed  23.0   \n",
              "3   8     Matthew Hoffman  04/01/15              shot  toy weapon  32.0   \n",
              "4   9   Michael Rodriguez  04/01/15              shot    nail gun  39.0   \n",
              "\n",
              "  gender race           city state  signs_of_mental_illness threat_level  \\\n",
              "0      M    A        Shelton    WA                     True       attack   \n",
              "1      M    W          Aloha    OR                    False       attack   \n",
              "2      M    H        Wichita    KS                    False        other   \n",
              "3      M    W  San Francisco    CA                     True       attack   \n",
              "4      M    H          Evans    CO                    False       attack   \n",
              "\n",
              "          flee  body_camera  \n",
              "0  Not fleeing        False  \n",
              "1  Not fleeing        False  \n",
              "2  Not fleeing        False  \n",
              "3  Not fleeing        False  \n",
              "4  Not fleeing        False  "
            ],
            "text/html": [
              "\n",
              "  <div id=\"df-5c9a0be7-b5ff-4b6b-a1c9-9f66fd4abefc\">\n",
              "    <div class=\"colab-df-container\">\n",
              "      <div>\n",
              "<style scoped>\n",
              "    .dataframe tbody tr th:only-of-type {\n",
              "        vertical-align: middle;\n",
              "    }\n",
              "\n",
              "    .dataframe tbody tr th {\n",
              "        vertical-align: top;\n",
              "    }\n",
              "\n",
              "    .dataframe thead th {\n",
              "        text-align: right;\n",
              "    }\n",
              "</style>\n",
              "<table border=\"1\" class=\"dataframe\">\n",
              "  <thead>\n",
              "    <tr style=\"text-align: right;\">\n",
              "      <th></th>\n",
              "      <th>id</th>\n",
              "      <th>name</th>\n",
              "      <th>date</th>\n",
              "      <th>manner_of_death</th>\n",
              "      <th>armed</th>\n",
              "      <th>age</th>\n",
              "      <th>gender</th>\n",
              "      <th>race</th>\n",
              "      <th>city</th>\n",
              "      <th>state</th>\n",
              "      <th>signs_of_mental_illness</th>\n",
              "      <th>threat_level</th>\n",
              "      <th>flee</th>\n",
              "      <th>body_camera</th>\n",
              "    </tr>\n",
              "  </thead>\n",
              "  <tbody>\n",
              "    <tr>\n",
              "      <th>0</th>\n",
              "      <td>3</td>\n",
              "      <td>Tim Elliot</td>\n",
              "      <td>02/01/15</td>\n",
              "      <td>shot</td>\n",
              "      <td>gun</td>\n",
              "      <td>53.0</td>\n",
              "      <td>M</td>\n",
              "      <td>A</td>\n",
              "      <td>Shelton</td>\n",
              "      <td>WA</td>\n",
              "      <td>True</td>\n",
              "      <td>attack</td>\n",
              "      <td>Not fleeing</td>\n",
              "      <td>False</td>\n",
              "    </tr>\n",
              "    <tr>\n",
              "      <th>1</th>\n",
              "      <td>4</td>\n",
              "      <td>Lewis Lee Lembke</td>\n",
              "      <td>02/01/15</td>\n",
              "      <td>shot</td>\n",
              "      <td>gun</td>\n",
              "      <td>47.0</td>\n",
              "      <td>M</td>\n",
              "      <td>W</td>\n",
              "      <td>Aloha</td>\n",
              "      <td>OR</td>\n",
              "      <td>False</td>\n",
              "      <td>attack</td>\n",
              "      <td>Not fleeing</td>\n",
              "      <td>False</td>\n",
              "    </tr>\n",
              "    <tr>\n",
              "      <th>2</th>\n",
              "      <td>5</td>\n",
              "      <td>John Paul Quintero</td>\n",
              "      <td>03/01/15</td>\n",
              "      <td>shot and Tasered</td>\n",
              "      <td>unarmed</td>\n",
              "      <td>23.0</td>\n",
              "      <td>M</td>\n",
              "      <td>H</td>\n",
              "      <td>Wichita</td>\n",
              "      <td>KS</td>\n",
              "      <td>False</td>\n",
              "      <td>other</td>\n",
              "      <td>Not fleeing</td>\n",
              "      <td>False</td>\n",
              "    </tr>\n",
              "    <tr>\n",
              "      <th>3</th>\n",
              "      <td>8</td>\n",
              "      <td>Matthew Hoffman</td>\n",
              "      <td>04/01/15</td>\n",
              "      <td>shot</td>\n",
              "      <td>toy weapon</td>\n",
              "      <td>32.0</td>\n",
              "      <td>M</td>\n",
              "      <td>W</td>\n",
              "      <td>San Francisco</td>\n",
              "      <td>CA</td>\n",
              "      <td>True</td>\n",
              "      <td>attack</td>\n",
              "      <td>Not fleeing</td>\n",
              "      <td>False</td>\n",
              "    </tr>\n",
              "    <tr>\n",
              "      <th>4</th>\n",
              "      <td>9</td>\n",
              "      <td>Michael Rodriguez</td>\n",
              "      <td>04/01/15</td>\n",
              "      <td>shot</td>\n",
              "      <td>nail gun</td>\n",
              "      <td>39.0</td>\n",
              "      <td>M</td>\n",
              "      <td>H</td>\n",
              "      <td>Evans</td>\n",
              "      <td>CO</td>\n",
              "      <td>False</td>\n",
              "      <td>attack</td>\n",
              "      <td>Not fleeing</td>\n",
              "      <td>False</td>\n",
              "    </tr>\n",
              "  </tbody>\n",
              "</table>\n",
              "</div>\n",
              "      <button class=\"colab-df-convert\" onclick=\"convertToInteractive('df-5c9a0be7-b5ff-4b6b-a1c9-9f66fd4abefc')\"\n",
              "              title=\"Convert this dataframe to an interactive table.\"\n",
              "              style=\"display:none;\">\n",
              "        \n",
              "  <svg xmlns=\"http://www.w3.org/2000/svg\" height=\"24px\"viewBox=\"0 0 24 24\"\n",
              "       width=\"24px\">\n",
              "    <path d=\"M0 0h24v24H0V0z\" fill=\"none\"/>\n",
              "    <path d=\"M18.56 5.44l.94 2.06.94-2.06 2.06-.94-2.06-.94-.94-2.06-.94 2.06-2.06.94zm-11 1L8.5 8.5l.94-2.06 2.06-.94-2.06-.94L8.5 2.5l-.94 2.06-2.06.94zm10 10l.94 2.06.94-2.06 2.06-.94-2.06-.94-.94-2.06-.94 2.06-2.06.94z\"/><path d=\"M17.41 7.96l-1.37-1.37c-.4-.4-.92-.59-1.43-.59-.52 0-1.04.2-1.43.59L10.3 9.45l-7.72 7.72c-.78.78-.78 2.05 0 2.83L4 21.41c.39.39.9.59 1.41.59.51 0 1.02-.2 1.41-.59l7.78-7.78 2.81-2.81c.8-.78.8-2.07 0-2.86zM5.41 20L4 18.59l7.72-7.72 1.47 1.35L5.41 20z\"/>\n",
              "  </svg>\n",
              "      </button>\n",
              "      \n",
              "  <style>\n",
              "    .colab-df-container {\n",
              "      display:flex;\n",
              "      flex-wrap:wrap;\n",
              "      gap: 12px;\n",
              "    }\n",
              "\n",
              "    .colab-df-convert {\n",
              "      background-color: #E8F0FE;\n",
              "      border: none;\n",
              "      border-radius: 50%;\n",
              "      cursor: pointer;\n",
              "      display: none;\n",
              "      fill: #1967D2;\n",
              "      height: 32px;\n",
              "      padding: 0 0 0 0;\n",
              "      width: 32px;\n",
              "    }\n",
              "\n",
              "    .colab-df-convert:hover {\n",
              "      background-color: #E2EBFA;\n",
              "      box-shadow: 0px 1px 2px rgba(60, 64, 67, 0.3), 0px 1px 3px 1px rgba(60, 64, 67, 0.15);\n",
              "      fill: #174EA6;\n",
              "    }\n",
              "\n",
              "    [theme=dark] .colab-df-convert {\n",
              "      background-color: #3B4455;\n",
              "      fill: #D2E3FC;\n",
              "    }\n",
              "\n",
              "    [theme=dark] .colab-df-convert:hover {\n",
              "      background-color: #434B5C;\n",
              "      box-shadow: 0px 1px 3px 1px rgba(0, 0, 0, 0.15);\n",
              "      filter: drop-shadow(0px 1px 2px rgba(0, 0, 0, 0.3));\n",
              "      fill: #FFFFFF;\n",
              "    }\n",
              "  </style>\n",
              "\n",
              "      <script>\n",
              "        const buttonEl =\n",
              "          document.querySelector('#df-5c9a0be7-b5ff-4b6b-a1c9-9f66fd4abefc button.colab-df-convert');\n",
              "        buttonEl.style.display =\n",
              "          google.colab.kernel.accessAllowed ? 'block' : 'none';\n",
              "\n",
              "        async function convertToInteractive(key) {\n",
              "          const element = document.querySelector('#df-5c9a0be7-b5ff-4b6b-a1c9-9f66fd4abefc');\n",
              "          const dataTable =\n",
              "            await google.colab.kernel.invokeFunction('convertToInteractive',\n",
              "                                                     [key], {});\n",
              "          if (!dataTable) return;\n",
              "\n",
              "          const docLinkHtml = 'Like what you see? Visit the ' +\n",
              "            '<a target=\"_blank\" href=https://colab.research.google.com/notebooks/data_table.ipynb>data table notebook</a>'\n",
              "            + ' to learn more about interactive tables.';\n",
              "          element.innerHTML = '';\n",
              "          dataTable['output_type'] = 'display_data';\n",
              "          await google.colab.output.renderOutput(dataTable, element);\n",
              "          const docLink = document.createElement('div');\n",
              "          docLink.innerHTML = docLinkHtml;\n",
              "          element.appendChild(docLink);\n",
              "        }\n",
              "      </script>\n",
              "    </div>\n",
              "  </div>\n",
              "  "
            ]
          },
          "metadata": {},
          "execution_count": 5
        }
      ]
    },
    {
      "cell_type": "markdown",
      "metadata": {
        "id": "QV9t8yChHfj_",
        "pycharm": {
          "name": "#%% md\n"
        }
      },
      "source": [
        "# 4 - Introdução a probabilidade\n",
        "\n",
        "A probabilidade nos diz qual é a chance de um determinado evento ocorrer. Sua definição matemática é dada pela equação abaixo:\n",
        "\n",
        "### <center> $ P(x) = \\frac{nº\\ de\\ casos\\ em\\ que\\ x\\ pode \\ ocorrer}{numero\\ total\\ de\\ casos}$ </center>\n",
        "\n",
        "O número total de casos quem compõe  é chamado de espaço amostral: $\\Omega$. <br>\n",
        "O valor de uma probabiliadade varia sempre de 0 a 1 (0% - 100%). Portanto, $  0 \\leq P(x) \\leq 1$. Quando a probabilidade de um evento é 1, chamamos esse evento de **evento certo**. Já quando é ela 0, chamamos de **evento impossível**.\n",
        "\n",
        "Formalmente, a probabilidade de um evento A, ocorrer em um espaço amostral $\\Omega$ obedece algumas propriedades:\n",
        "\n",
        "* $P(A) \\geq 0$\n",
        "* $P(\\Omega) = 1$\n",
        "* $ Se A_1, A_2, A_3,...A_N$ são eventos multuamente exclusivos então $P(\\cup_i^{n} A_i) =  \\sum_i^n P(A_i)$\n",
        "\n",
        "Além disso, a partir dessas propriedades fundamentais, derivamos as seguintes:\n",
        "\n",
        "Se $A^c$ é o evento complementar de $A$, então:\n",
        "\n",
        "* $ A\\cup A^c = \\Omega$\n",
        "* $A \\cap A^c = \\emptyset $\n",
        "* $ P(A^c) = 1 - P(A) $\n",
        "\n",
        "\n",
        "\n",
        "\n"
      ]
    },
    {
      "cell_type": "markdown",
      "metadata": {
        "id": "5vFJ_xGSl7CJ",
        "pycharm": {
          "name": "#%% md\n"
        }
      },
      "source": [
        "## 4.1 Exploração do dataset através do cáculo de probabilidades marginais\n",
        "\n",
        "Nos próximos exercícios vamos extrair algumas informações dos nossos dados através do cálculo de probabiidade. Para isso, vamos escolher alguns aspectos que queremos investigar e usar a definição formal de probabilidade."
      ]
    },
    {
      "cell_type": "markdown",
      "metadata": {
        "id": "KjkYiqT6m-w9",
        "pycharm": {
          "name": "#%% md\n"
        }
      },
      "source": [
        "### 4.1.1 Probabilidade dos individuos assassinados serem do sexo masculino e feminino\n",
        "\n",
        "Você tem alguma ideia de qual sexo tem maior probabilidade de ocorrência dentre os dados de assassinatos coletados?\n",
        "\n",
        "Bem, sabemos que a nossa base de dados é composta por assassinatos de pessoas por policiais americanos. Assim, cada entrada (linha) representa a morte de civíl que pode ser do sexo Masculino (M) ou Feminino (F).\n",
        "\n",
        "Então, vamos as definções. Precisamos saber quais eventos estamos interessados em calcular a probabilidade e quem é o nosso universo, o nosso espaço amostral.\n",
        "\n",
        "É razoável definir como espaço amostral o conjunto de todos os assassinatos declarados na base de dados.\n",
        "\n",
        "E o evento? O que queremos saber é: qual é a probabilidade do indivíduo asssassinado ser do sexo masculino e qual a probabilidade de ele ser do sexo feminino. Então temos dois eventos: \n",
        "\n",
        "\n",
        "*   A pessoa morta é do sexo feminino\n",
        "*   A pessoa morte é do sexo masculino\n",
        "\n",
        "Contudo, sabemos que na base de dados, o evento \"ser do sexo feminino\" é complementar ao evento \"ser do sexo masculino\", não levando em consideração as pessoas com ambos os sexos ou interssexuais.\n",
        "\n",
        "Portanto, só precisamos calcular uma dessas probabilidades e usar a propriedade evento complementar.\n",
        "\n",
        "Então vamos ao exercício:\n",
        "\n",
        "Para realizar a contagem dos eventos por sexo, iremos utilizar novamente o método `groupby()` da bilioteca Pandas. Como você viu nos roteiros passados, sempre que usamos um metodo de agrupamento é necessário dizer como será feita de agregação dos dados. No nosso caso, vamos utilizar o metodo `size()` para realizar a contagem.\n",
        "\n",
        "No exercício 3 utilize o comando **`meuDataset.groupby(\"colunaQueQueroAGrupar\").size()`** para realizar o agrupamento das pessoas por sexo. Armazene esse resultado na variável **` mortes_por_sexo`**.\n",
        "\n",
        "Após fazer essa operação, complete as demais etapas código para separar o valor de cada contagem. Utilize a definição formal de probabilidade para calcular a probabilidade $P(M)$ e a propriedade do complementar para descobrir a probablidade $P(F)$.\n"
      ]
    },
    {
      "cell_type": "code",
      "metadata": {
        "id": "8BtYQlP0yzRX",
        "pycharm": {
          "name": "#%%\n"
        },
        "colab": {
          "base_uri": "https://localhost:8080/"
        },
        "outputId": "0b3a7e2c-cf22-4628-ba2e-1b4185c39863"
      },
      "source": [
        "#Exercício 3\n",
        "\n",
        "mortes_por_sexo = policeKillingsDF.groupby(\"gender\").size()\n",
        "print(\"Mortes por sexo\\n\\n \", mortes_por_sexo)\n",
        "\n",
        "numero_casos_feminino = mortes_por_sexo[0]\n",
        "numero_casos_masculino = mortes_por_sexo[1]\n",
        "\n",
        "numeroTotalDeCasos = numero_casos_feminino + numero_casos_masculino\n",
        "\n",
        "probabilidade_masculino = numero_casos_masculino/numeroTotalDeCasos\n",
        "probabilidade_feminino = numero_casos_feminino/numeroTotalDeCasos\n",
        "\n",
        "print(\"Probabilidade da pessoa morta ser do sexo masculino \", probabilidade_masculino)\n",
        "print(\"Probabilidade da pessoa morta ser do sexo feminino \", probabilidade_feminino)"
      ],
      "execution_count": 7,
      "outputs": [
        {
          "output_type": "stream",
          "name": "stdout",
          "text": [
            "Mortes por sexo\n",
            "\n",
            "  gender\n",
            "F     107\n",
            "M    2428\n",
            "dtype: int64\n",
            "Probabilidade da pessoa morta ser do sexo masculino  0.9577909270216962\n",
            "Probabilidade da pessoa morta ser do sexo feminino  0.04220907297830375\n"
          ]
        }
      ]
    },
    {
      "cell_type": "markdown",
      "metadata": {
        "id": "7NVXaUSg8g2T",
        "pycharm": {
          "name": "#%% md\n"
        }
      },
      "source": [
        "### 4.1.2 Probabilidade do individuo assassinado ter mais de 20 anos.\n",
        "\n",
        "Para calcular probabilidade do indivíduo ter mais de 20 anos, teremos que novamente fazer a contagem desse evento. Dessa vez faremos, digamos, mais artesanalmente. \n",
        "\n",
        "Primeiro você precisará contar todas as entradas do *dataset* em que a idade da pessoa é maior que 20 anos. Após isso, contabilize o número total de entradas e use a definição de probabilidade para obter o resultado.\n",
        "\n",
        "Complete o código do exercício #4 para realizar essas operações.\n",
        "\n"
      ]
    },
    {
      "cell_type": "code",
      "metadata": {
        "id": "64H8y3-8NxRu",
        "pycharm": {
          "name": "#%%\n"
        },
        "colab": {
          "base_uri": "https://localhost:8080/"
        },
        "outputId": "fb7fa5c3-7c7f-4cc5-f4dc-00fa61a3c407"
      },
      "source": [
        "#Exercício 4\n",
        "\n",
        "#Extração de um subdataset contendo apenas as colunas de idade.\n",
        "subDFIdade = policeKillingsDF[['age']]\n",
        "\n",
        "countMascMaiorQue20 = 0\n",
        "countTotal = len(subDFIdade)\n",
        "\n",
        "for indice, linha in subDFIdade.iterrows():\n",
        "    if linha['age'] > 20:\n",
        "      countMascMaiorQue20 = countMascMaiorQue20 + 1\n",
        " \n",
        "\n",
        "print(\"Número de eventos em que o individuo tinha mais de 20 anos: \",countMascMaiorQue20)\n",
        "\n",
        "probabilidadeMaisDe20 = countMascMaiorQue20/ countTotal \n",
        "print(\"A probabilidade do indivíduo assassinado ter mais de 20 anos é: \", probabilidadeMaisDe20)\n"
      ],
      "execution_count": 12,
      "outputs": [
        {
          "output_type": "stream",
          "name": "stdout",
          "text": [
            "Número de eventos em que o individuo tinha mais de 20 anos:  2271\n",
            "A probabilidade do indivíduo assassinado ter mais de 20 anos é:  0.8958579881656805\n"
          ]
        }
      ]
    },
    {
      "cell_type": "markdown",
      "metadata": {
        "id": "ZVI7oUfUKy6H",
        "pycharm": {
          "name": "#%% md\n"
        }
      },
      "source": [
        "#5 - Probabilidade condicional\n",
        "\n",
        "Probabilidade condicional é um conceito estatístico que estuda a probabilidade de um evento ocorrer dado que outro evento já ocorreu. Desse modo, dado dois eventos A e B, a P(A|B) (lê-se probabilidade de A dado B), é a probabilidade do evento A ocorrer, sabendo que o evento B já ocorreu. \n",
        "\n",
        "A sua definição é dada pela equação abaixo:\n",
        "#### <center> $P(A|B) = \\frac{P(A \\cap B)}{P(B)}$ <br> </center>\n",
        "\n",
        "Se o evento A é independente do evento B, então $P(A \\cap B) = P(A) \\cdot P(B)$, e a equação da probabilidade condicional pode ser reescrita da seguite maneira:\n",
        "\n",
        "#### <center> $P(A|B) = \\frac{P(A) \\cdot P(B)}{P(B)}$\n",
        "\n",
        "Nos próximos exercícios, você vai exercitar esse conceito para obter algumas informações da nossa base de dados."
      ]
    },
    {
      "cell_type": "markdown",
      "metadata": {
        "id": "LHOhc6bWMP8N",
        "pycharm": {
          "name": "#%% md\n"
        }
      },
      "source": [
        "## 5.1 Probabilidade de um indíviduo do sexo masculino ter sido assasinado no estado do Texas.\n",
        "\n",
        "Para descobrir essa informação, nós vamos usar o conceito de probabilidade condicional. Mas antes de iniciar o cálculo desta probabilidade, precisamos definir quem são os nossos eventos. \n",
        "\n",
        "Vamos chamar de **M** o evento que já sabemos que ocorreu, ou seja, a pessoa assassinada era do sexo masculino, e de **T** o evento relativo a pessoa ter sido assassinada no estado do Texas. \n",
        "\n",
        "Para sumarizar o nosso problema, seguem as definições:\n",
        "\n",
        "* $M $- A pessoa assassinada é do sexo masculino.\n",
        "* $T$ - A pessoa foi assassinada no estado do Texas.\n",
        "* $P(T | M)$  - Probabilidade da pessoa ter sido assassinada no estado do Texas, dado que era do sexo masculino.\n",
        "\n",
        "Desse modo a probabilidade que queremos calcular é:\n",
        "\n",
        "### <center>$P(T | M) = \\frac{P(T \\cap M)}{P(M)}$ </center>\n",
        "\n",
        "Quando estamos trabalhando com dados reais, nem sempre sabemos sobre sua natureza ou como variáveis se relacionam umas com  as outras.  Por isso, é perigoso fazer afirmações sobre os dados antes de explorá-los bem. \n",
        "\n",
        "Por exemplo, inicialmente parece ser razoável afirmar que  estado onde individuo morreu independe ele do ser sexo masculino, não é? Mas será que isso é mesmo verdade?\n",
        "\n",
        "Para descobrir isso vamos calcular a probabilidade condicional de duas maneiras:\n",
        "\n",
        "* 1ª - Utilizando o princípio da contagem\n",
        "* 2ª - Considerando que as eventos são independentes, o que implica que: $P(T \\cap M) = P(T) \\cdot P(M)$\n",
        "\n",
        "\n",
        "\n"
      ]
    },
    {
      "cell_type": "markdown",
      "metadata": {
        "id": "T9Pr2FA-vuyt",
        "pycharm": {
          "name": "#%% md\n"
        }
      },
      "source": [
        "### 5.1.1 - Cálculo utilizando principio da contagem\n",
        "\n",
        "Incialmente, nós precisamos extrair um subconjunto do dataset contendo apenas as nossas variáveis de interesse, nesse caso ***gender*** e ***state***.\n",
        "\n",
        "Armazene na variável **`subDFSexoEstado`** um subconjunto do nosso dataset apenas com as variáveis ***gender*** e ***state***, para isso utilize o comando **`meuDataset[['variavel_1, variavel_2']]`.**"
      ]
    },
    {
      "cell_type": "code",
      "metadata": {
        "id": "WavXLfOP8yQG",
        "pycharm": {
          "name": "#%%\n"
        }
      },
      "source": [
        "#Exercício 5\n",
        "\n",
        "#Extração de um subdataset contendo apenas as colunas de sexo e estado.\n",
        "subDFSexoEstado = policeKillingsDF[['gender', 'state']]"
      ],
      "execution_count": 25,
      "outputs": []
    },
    {
      "cell_type": "markdown",
      "metadata": {
        "id": "x9X_KONo87Gt",
        "pycharm": {
          "name": "#%% md\n"
        }
      },
      "source": [
        "Agora que já temos o nosso conjunto, vamos fazer a contagem dos eventos em que o individuo é do sexo masculino e morreu no estado texas, ou seja a contagem da interseção M $\\cap$ T.\n",
        "\n",
        "A definição de probabilidade condicional exige a obtenção da probabilidade marginal do evento que temos certeza (no nosso caso, o gênero da pessoa). Por isso, você também precisará fazer a contagem de todos os eventos em que o indivíduo é do sexo masculino.\n",
        "\n",
        "Complete o código da célula abaixo, para calcular o valor das variaveis de contagem `countMasculino` e `countMasculinoETexas`.\n"
      ]
    },
    {
      "cell_type": "code",
      "metadata": {
        "id": "kEk3jLd3YGkc",
        "pycharm": {
          "name": "#%%\n"
        }
      },
      "source": [
        "#Exercício 6\n",
        "\n",
        "#Probabilidade utilizando o principio da contagem.\n",
        "countMasculinoETexas = 0\n",
        "countMasculino = 0\n",
        "\n",
        "#total de eventos possíveis\n",
        "countTotal = len(subDFSexoEstado)\n",
        "\n",
        "#Contagem de eventos pertecentes a interseção\n",
        "for indice, linha in subDFSexoEstado.iterrows():\n",
        "    if linha['gender'] == 'M':\n",
        "        countMasculino +=1\n",
        "        if linha['state'] == 'TX':  \n",
        "          countMasculinoETexas += 1       \n",
        "\n",
        "          "
      ],
      "execution_count": 30,
      "outputs": []
    },
    {
      "cell_type": "markdown",
      "metadata": {
        "id": "9CMqccjP_m8Z",
        "pycharm": {
          "name": "#%% md\n"
        }
      },
      "source": [
        "Agora que você já tem as contagens, calcule as probabilidades P(M) e P(M $\\cap$ T) , utilizando a definição formal de probabilidade.\n",
        "\n",
        "Por fim, calcule a probabilidade condicional utilizando sua definição e os resultados obtidos."
      ]
    },
    {
      "cell_type": "code",
      "metadata": {
        "id": "N9EJMzgg_mE1",
        "pycharm": {
          "name": "#%%\n"
        },
        "colab": {
          "base_uri": "https://localhost:8080/"
        },
        "outputId": "ab031d32-4cc0-47f3-f115-ef2eceec08da"
      },
      "source": [
        "#Exercício 7\n",
        "\n",
        "#Probabilidade de ser do sexo masculino\n",
        "probMasculino = countMasculino/countTotal\n",
        "\n",
        "#probablidade de ser do sexo masculino e ter sido assassinado no texas.\n",
        "probMasculinoTexas = countMasculinoETexas/countTotal\n",
        "\n",
        "probCondicional =  probMasculinoTexas/probMasculino\n",
        "print(\"A probabilidade ser do texas dado que é do sexo masculino: \", probCondicional)"
      ],
      "execution_count": 33,
      "outputs": [
        {
          "output_type": "stream",
          "name": "stdout",
          "text": [
            "A probabilidade ser do texas dado que é do sexo masculino:  0.08813838550247118\n"
          ]
        }
      ]
    },
    {
      "cell_type": "markdown",
      "metadata": {
        "id": "-BFdi-VFQCkD",
        "pycharm": {
          "name": "#%% md\n"
        }
      },
      "source": [
        "### 5.1.2 - Cálculo assumindo independência\n",
        "Agora você já sabe qual é o valor da probabilidade $P(T | M)$ utilizando o principio da contagem. Mas será que essas variáveis são independentes? Vamos descobrir isso calculando novamente a probabilidade condicional, mas agora assumindo independência das variáveis. \n",
        "\n",
        "Complete o código da célula abaixo para realizar essa operação. \n",
        "\n",
        "* Dica: Utilize a definição da probabilidade da interção para eventos independentes."
      ]
    },
    {
      "cell_type": "code",
      "metadata": {
        "id": "8uyigkZ5QBok",
        "pycharm": {
          "name": "#%%\n"
        },
        "colab": {
          "base_uri": "https://localhost:8080/"
        },
        "outputId": "e82d84f8-e4f5-410e-cde7-04f40e87741d"
      },
      "source": [
        "#Exercício 8\n",
        "#Probabilidade assumindo independência entre os eventos\n",
        "countMasculino = 0\n",
        "countTexas = 0\n",
        "countTotal = len(subDFSexoEstado)\n",
        "\n",
        "for indice, linha in subDFSexoEstado.iterrows():\n",
        "    if linha['gender'] == 'M':\n",
        "      countMasculino+=1\n",
        "    if linha['state'] == 'TX':\n",
        "      countTexas +=1\n",
        "\n",
        "probMasculino = countMasculino/countTotal\n",
        "probTexas = countTexas/countTotal\n",
        "\n",
        "probInterseção = probMasculino*probTexas\n",
        "probCondicionalInd = probInterseção/probMasculino\n",
        "\n",
        "print('A probabilidade condicional considerando independência é: ', probCondicionalInd)"
      ],
      "execution_count": 35,
      "outputs": [
        {
          "output_type": "stream",
          "name": "stdout",
          "text": [
            "A probabilidade condicional considerando independência é:  0.08875739644970414\n"
          ]
        }
      ]
    },
    {
      "cell_type": "code",
      "metadata": {
        "id": "R3ZKzEVc36Do",
        "pycharm": {
          "name": "#%%\n"
        }
      },
      "source": [
        "# Exercício 9\n",
        "Agora que você calculou das duas maneiras, os eventos são ou não independentes? Mais pra sim do que pra não "
      ],
      "execution_count": null,
      "outputs": []
    },
    {
      "cell_type": "markdown",
      "metadata": {
        "id": "rWeoFqJnK5C1",
        "pycharm": {
          "name": "#%% md\n"
        }
      },
      "source": [
        "#6 - Teorema de Bayes\n",
        "\n",
        "Outra forma de calcular a probabilidade condicional é utilizando o teorema de Bayes. Ele costuma ser utilizado em situações em que se precisa quantificar a veracidade de um evento que já ocorreu, dado que já conhecemos algumas evidências. \n",
        "\n",
        "Sua definição é dada pela equação abaixo:\n",
        "\n",
        "#### <center> $P(B|A) = \\frac{P(A|B) \\cdot P(B)}{P(A)}$\n"
      ]
    },
    {
      "cell_type": "markdown",
      "metadata": {
        "id": "_k4zLVBlevRw",
        "pycharm": {
          "name": "#%% md\n"
        }
      },
      "source": [
        "## 6.1 Probabilidade de um individuo assassinado no texas ser do sexo masculino.\n",
        "No exercício #10, vamos calcular a probabilidade reversa do exercício anterior, isto é vamos calcular a probabilidade do individuo assassinado ser do sexo masculino dado que morreu no estado do Texas.\n",
        "\n",
        "Vamos nomear os eventos da mesma maneira:\n",
        "\n",
        "* $M $- A pessoa assassinada é do sexo masculino.\n",
        "* $T$ - A pessoa foi assassinada no estado do Texas.\n",
        "* $P(M | T)$  - Probabilidade da pessoa ser do sexo masculino, dado que o assassinato ocorreu no estado do Texas.\n",
        "\n",
        "\n",
        "Portanto,\n",
        "\n",
        "#### <center> $P(M|T) = \\frac{P(T|M) \\cdot P(M)}{P(T)}$\n",
        "\n",
        "Complete o código do exercício #10 , utilizando a definição acima e os resultados armazendos dos 2 últimos exercícios para calcular P(M|T).\n"
      ]
    },
    {
      "cell_type": "code",
      "metadata": {
        "id": "_V-g9OxBWVu1",
        "pycharm": {
          "name": "#%%\n"
        },
        "colab": {
          "base_uri": "https://localhost:8080/"
        },
        "outputId": "8054c727-a38c-493f-8fd7-93c58ecc9e14"
      },
      "source": [
        "#Exercício 10\n",
        "probCondicionalBayers = (probCondicional*probMasculino)/probTexas\n",
        "print(\"A probabilidade condicional P(M|T) é: \", probCondicionalBayers)"
      ],
      "execution_count": 36,
      "outputs": [
        {
          "output_type": "stream",
          "name": "stdout",
          "text": [
            "A probabilidade condicional P(M|T) é:  0.9511111111111112\n"
          ]
        }
      ]
    }
  ]
}